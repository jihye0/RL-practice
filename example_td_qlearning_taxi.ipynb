{
  "cells": [
    {
      "cell_type": "code",
      "execution_count": 1,
      "metadata": {
        "colab": {
          "base_uri": "https://localhost:8080/"
        },
        "id": "3jWksotyRNVO",
        "outputId": "775be9e6-9bba-4548-e228-450ab4b3e808"
      },
      "outputs": [
        {
          "output_type": "stream",
          "name": "stdout",
          "text": [
            "Collecting gymnasium[toy_text]\n",
            "  Downloading gymnasium-0.29.1-py3-none-any.whl (953 kB)\n",
            "\u001b[2K     \u001b[90m━━━━━━━━━━━━━━━━━━━━━━━━━━━━━━━━━━━━━━━━\u001b[0m \u001b[32m953.9/953.9 kB\u001b[0m \u001b[31m5.0 MB/s\u001b[0m eta \u001b[36m0:00:00\u001b[0m\n",
            "\u001b[?25hRequirement already satisfied: numpy>=1.21.0 in /usr/local/lib/python3.10/dist-packages (from gymnasium[toy_text]) (1.25.2)\n",
            "Requirement already satisfied: cloudpickle>=1.2.0 in /usr/local/lib/python3.10/dist-packages (from gymnasium[toy_text]) (2.2.1)\n",
            "Requirement already satisfied: typing-extensions>=4.3.0 in /usr/local/lib/python3.10/dist-packages (from gymnasium[toy_text]) (4.12.2)\n",
            "Collecting farama-notifications>=0.0.1 (from gymnasium[toy_text])\n",
            "  Downloading Farama_Notifications-0.0.4-py3-none-any.whl (2.5 kB)\n",
            "Requirement already satisfied: pygame>=2.1.3 in /usr/local/lib/python3.10/dist-packages (from gymnasium[toy_text]) (2.6.0)\n",
            "Installing collected packages: farama-notifications, gymnasium\n",
            "Successfully installed farama-notifications-0.0.4 gymnasium-0.29.1\n"
          ]
        }
      ],
      "source": [
        "!pip install gymnasium[toy_text]"
      ]
    },
    {
      "cell_type": "code",
      "execution_count": 19,
      "metadata": {
        "id": "M6dN2WFTRbdp"
      },
      "outputs": [],
      "source": [
        "import numpy as np\n",
        "import random\n",
        "import gymnasium as gym\n",
        "\n",
        "# step types\n",
        "STEPTYPE_FIRST = 0\n",
        "STEPTYPE_MID = 1\n",
        "STEPTYPE_LAST = 2\n",
        "\n",
        "Q = np.random.uniform(size=(500, 6))"
      ]
    },
    {
      "cell_type": "code",
      "source": [
        "env = gym.make('Taxi-v3', render_mode='ansi')"
      ],
      "metadata": {
        "id": "iExaj1bxOjBu"
      },
      "execution_count": 32,
      "outputs": []
    },
    {
      "cell_type": "code",
      "source": [
        "obs, _ = env.reset()"
      ],
      "metadata": {
        "id": "l4bzymeGOqRm"
      },
      "execution_count": 33,
      "outputs": []
    },
    {
      "cell_type": "code",
      "source": [
        "print(env.render())"
      ],
      "metadata": {
        "colab": {
          "base_uri": "https://localhost:8080/"
        },
        "id": "DnDFMhfyOtTj",
        "outputId": "3c754ef7-88b7-4ae5-d877-7ab56a16426e"
      },
      "execution_count": 36,
      "outputs": [
        {
          "output_type": "stream",
          "name": "stdout",
          "text": [
            "+---------+\n",
            "|\u001b[35mR\u001b[0m: | : :G|\n",
            "| : | : : |\n",
            "| : : : : |\n",
            "| | : | : |\n",
            "|\u001b[34;1m\u001b[43mY\u001b[0m\u001b[0m| : |B: |\n",
            "+---------+\n",
            "\n",
            "\n"
          ]
        }
      ]
    },
    {
      "cell_type": "code",
      "execution_count": null,
      "metadata": {
        "id": "ca9TbK-_TBur"
      },
      "outputs": [],
      "source": [
        "# wrapper for gym's blackjack environment\n",
        "def generate_start_step():\n",
        "    return { 'observation': env.reset(), 'reward': 0., 'step_type': STEPTYPE_FIRST }\n",
        "\n",
        "def generate_next_step(step, action):\n",
        "    obs, reward, done, _, info = env.step(action)\n",
        "    step_type = STEPTYPE_LAST if done else STEPTYPE_MID\n",
        "    return { 'observation': obs, 'reward': reward, 'step_type': step_type }"
      ]
    },
    {
      "cell_type": "code",
      "execution_count": null,
      "metadata": {
        "id": "TEU1Bs_LU0mH"
      },
      "outputs": [],
      "source": [
        "epsilon = 0.1\n",
        "\n",
        "def get_eps_soft_action(step):\n",
        "    # epsilon-soft greedy policy\n",
        "    # ---- fill here ----"
      ]
    },
    {
      "cell_type": "code",
      "execution_count": null,
      "metadata": {
        "id": "cmFs6E6xTHKB"
      },
      "outputs": [],
      "source": [
        "def get_greedy_action(step):\n",
        "    observ = step['observation']\n",
        "    return np.argmax(Q[observ])"
      ]
    },
    {
      "cell_type": "code",
      "execution_count": null,
      "metadata": {
        "id": "YvastGlsTJG0"
      },
      "outputs": [],
      "source": [
        "def get_random_action(step):\n",
        "    return random.randint(0, env.action_space.n-1)\n",
        "\n",
        "behavior_prob_hit = 1. / float(env.action_space.n)"
      ]
    },
    {
      "cell_type": "code",
      "execution_count": null,
      "metadata": {
        "id": "OGwGb5S9TK7N"
      },
      "outputs": [],
      "source": [
        "# return true if (observ, action) exists in epi\n",
        "def in_episode(epi, observ, action):\n",
        "    for s, a in zip(*epi):\n",
        "        if s['observation'] == observ and a == action:\n",
        "            return True\n",
        "    return False"
      ]
    },
    {
      "cell_type": "code",
      "execution_count": null,
      "metadata": {
        "id": "I0GCIFYETMtH"
      },
      "outputs": [],
      "source": [
        "def generate_episode(policy_func=get_random_action):\n",
        "    episode = list()\n",
        "    actions = list()\n",
        "    frames = list()\n",
        "    step = generate_start_step()\n",
        "    frames.append(env.render(mode='ansi'))\n",
        "    episode.append(step)\n",
        "    while step['step_type'] != STEPTYPE_LAST:\n",
        "        action = policy_func(step)\n",
        "        step = generate_next_step(step, action)\n",
        "        frames.append(env.render(mode='ansi'))\n",
        "        episode.append(step)\n",
        "        actions.append(action)\n",
        "    return episode, actions, frames"
      ]
    },
    {
      "cell_type": "code",
      "execution_count": null,
      "metadata": {
        "id": "6VTajme1TOB3"
      },
      "outputs": [],
      "source": [
        "from IPython.display import clear_output\n",
        "from time import sleep\n",
        "\n",
        "def print_frames(frames):\n",
        "    for i, frame in enumerate(frames):\n",
        "        clear_output(wait=True)\n",
        "        print(frame)\n",
        "        sleep(.2)"
      ]
    },
    {
      "cell_type": "code",
      "execution_count": null,
      "metadata": {
        "id": "tzTtqQVwTmP2"
      },
      "outputs": [],
      "source": [
        "maxiter = 100000\n",
        "gamma = 1\n",
        "epsilon = 0.3\n",
        "lr_rate = 0.8\n",
        "\n",
        "Q = np.random.uniform(size=(env.observation_space.n, env.action_space.n))\n",
        "\n",
        "for _ in range(maxiter):\n",
        "    # starting step\n",
        "    step = generate_start_step()\n",
        "    action = get_random_action(step)\n",
        "    done = False\n",
        "    while not done:\n",
        "        next_step = generate_next_step(step, action)\n",
        "\n",
        "        if next_step['step_type'] == STEPTYPE_LAST:\n",
        "            state = step['observation']\n",
        "            idx1 = (state, action)\n",
        "            Q[idx1] = Q[idx1] + lr_rate * (next_step['reward'] - Q[idx1])\n",
        "            done = True\n",
        "        else:\n",
        "            best_action = get_greedy_action(next_step)\n",
        "\n",
        "            state = step['observation']\n",
        "            next_state = next_step['observation']\n",
        "            idx1 = (state, action)\n",
        "            idx2 = (next_state, best_action)\n",
        "            Q[idx1] = Q[idx1] + lr_rate * ((next_step['reward'] + gamma * Q[idx2]) - Q[idx1])\n",
        "\n",
        "            next_action = get_eps_soft_action(step)\n",
        "\n",
        "            step = next_step\n",
        "            action = next_action\n"
      ]
    },
    {
      "cell_type": "code",
      "execution_count": null,
      "metadata": {
        "id": "sUwSbyvZWLyn"
      },
      "outputs": [],
      "source": [
        "epi, actions, frames = generate_episode(policy_func=get_greedy_action)\n",
        "print_frames(frames)"
      ]
    },
    {
      "cell_type": "code",
      "execution_count": null,
      "metadata": {
        "id": "kvOoPvwfURYX"
      },
      "outputs": [],
      "source": []
    }
  ],
  "metadata": {
    "colab": {
      "provenance": []
    },
    "kernelspec": {
      "display_name": "Python 3",
      "name": "python3"
    },
    "language_info": {
      "name": "python"
    }
  },
  "nbformat": 4,
  "nbformat_minor": 0
}